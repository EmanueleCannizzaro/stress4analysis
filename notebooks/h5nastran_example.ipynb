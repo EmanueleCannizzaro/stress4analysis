{
 "cells": [
  {
   "cell_type": "markdown",
   "metadata": {},
   "source": [
    "# H5Nastran"
   ]
  },
  {
   "cell_type": "code",
   "execution_count": 1,
   "metadata": {},
   "outputs": [],
   "source": [
    "#import numpy as np"
   ]
  },
  {
   "cell_type": "code",
   "execution_count": 2,
   "metadata": {},
   "outputs": [],
   "source": [
    "import sys\n",
    "import os\n",
    "LIBRARIES = ['../h5nastran', '../../../workspace/pyNastran']\n",
    "for lib in LIBRARIES:\n",
    "    if not os.path.exists(lib) :\n",
    "        print('The specified libray path does not exists.')\n",
    "        sys.exit(1)\n",
    "    if os.path.abspath(lib) not in sys.path:\n",
    "        sys.path.append(os.path.abspath(lib))"
   ]
  },
  {
   "cell_type": "code",
   "execution_count": 3,
   "metadata": {
    "scrolled": true
   },
   "outputs": [],
   "source": [
    "import pyNastran\n",
    "import h5nastran"
   ]
  },
  {
   "cell_type": "code",
   "execution_count": 4,
   "metadata": {},
   "outputs": [],
   "source": [
    "from h5nastran.h5nastran import H5Nastran"
   ]
  },
  {
   "cell_type": "code",
   "execution_count": 5,
   "metadata": {},
   "outputs": [
    {
     "data": {
      "text/plain": [
       "['H5Nastran',\n",
       " '__builtins__',\n",
       " '__cached__',\n",
       " '__doc__',\n",
       " '__file__',\n",
       " '__loader__',\n",
       " '__name__',\n",
       " '__package__',\n",
       " '__path__',\n",
       " '__spec__',\n",
       " '_base',\n",
       " '_bdf',\n",
       " '_op2',\n",
       " '_punch',\n",
       " '_punch_reader',\n",
       " '_result',\n",
       " '_result_base',\n",
       " '_shell_element_info',\n",
       " '_shell_results',\n",
       " '_table_data',\n",
       " 'absolute_import',\n",
       " 'constraint',\n",
       " 'coordinate_system',\n",
       " 'defaults',\n",
       " 'design',\n",
       " 'dynamic',\n",
       " 'element',\n",
       " 'element_force',\n",
       " 'elemental',\n",
       " 'energy',\n",
       " 'exceptions',\n",
       " 'h5nastran',\n",
       " 'h5nastrannode',\n",
       " 'immutable_dict',\n",
       " 'input_node',\n",
       " 'input_table',\n",
       " 'load',\n",
       " 'material',\n",
       " 'msc_data_tables',\n",
       " 'nastran_node',\n",
       " 'nodal',\n",
       " 'node',\n",
       " 'parameter',\n",
       " 'partition',\n",
       " 'pch_reader',\n",
       " 'print_function',\n",
       " 'property',\n",
       " 'pynastran_interface',\n",
       " 'result_data',\n",
       " 'result_node',\n",
       " 'result_table',\n",
       " 'strain',\n",
       " 'stress',\n",
       " 'table',\n",
       " 'table_paths',\n",
       " 'transformation',\n",
       " 'versioning']"
      ]
     },
     "execution_count": 5,
     "metadata": {},
     "output_type": "execute_result"
    }
   ],
   "source": [
    "#dir(h5nastran)"
   ]
  },
  {
   "cell_type": "code",
   "execution_count": 6,
   "metadata": {},
   "outputs": [
    {
     "name": "stdout",
     "output_type": "stream",
     "text": [
      "h5nastran\n",
      "h5nastran.h5nastran\n",
      "h5nastran._result\n",
      "h5nastran._punch\n",
      "h5nastran._result_base\n",
      "h5nastran._base\n",
      "h5nastran.nastran_node\n",
      "h5nastran.h5nastrannode\n",
      "h5nastran.versioning\n",
      "h5nastran.input_node\n",
      "h5nastran.constraint\n",
      "h5nastran.input_table\n",
      "h5nastran.defaults\n",
      "h5nastran.msc_data_tables\n",
      "h5nastran.coordinate_system\n",
      "h5nastran.transformation\n",
      "h5nastran.design\n",
      "h5nastran.dynamic\n",
      "h5nastran.element\n",
      "h5nastran._shell_element_info\n",
      "h5nastran.load\n",
      "h5nastran.material\n",
      "h5nastran.node\n",
      "h5nastran.immutable_dict\n",
      "h5nastran.parameter\n",
      "h5nastran.partition\n",
      "h5nastran.property\n",
      "h5nastran.table\n",
      "h5nastran.result_node\n",
      "h5nastran.elemental\n",
      "h5nastran.element_force\n",
      "h5nastran._shell_results\n",
      "h5nastran.result_table\n",
      "h5nastran._table_data\n",
      "h5nastran.result_data\n",
      "h5nastran.energy\n",
      "h5nastran.strain\n",
      "h5nastran.stress\n",
      "h5nastran.nodal\n",
      "h5nastran.table_paths\n",
      "h5nastran._punch_reader\n",
      "h5nastran.pch_reader\n",
      "h5nastran._op2\n",
      "h5nastran._bdf\n",
      "h5nastran.exceptions\n",
      "h5nastran.pynastran_interface\n"
     ]
    }
   ],
   "source": [
    "import sys\n",
    "for item in sys.modules.keys():\n",
    "    if 'h5nastran' in item :\n",
    "        print(item)"
   ]
  },
  {
   "cell_type": "code",
   "execution_count": 7,
   "metadata": {},
   "outputs": [
    {
     "name": "stdout",
     "output_type": "stream",
     "text": [
      "MAT1 not supported\n",
      "MPCADD not supported\n"
     ]
    }
   ],
   "source": [
    "db = H5Nastran('../output/model_001.pch.h5', 'w')  # , in_memory=True)\n",
    "db.load_bdf('../data/model_001.bdf')\n",
    "db.load_punch('../data/model_001.pch')\n",
    "#f573100a.pch"
   ]
  },
  {
   "cell_type": "code",
   "execution_count": 10,
   "metadata": {},
   "outputs": [
    {
     "name": "stdout",
     "output_type": "stream",
     "text": [
      "[(    1, 0, [ 0.69290965,  0.28701257,  0.        ], 0, -10, 0, 1)\n",
      " (    2, 0, [-0.69290965,  0.28701257,  0.        ], 0, -10, 0, 1)\n",
      " (    3, 0, [ 1.58844458, -1.875     ,  0.        ], 0, -10, 0, 1) ...,\n",
      " (38574, 0, [-0.08865498,  0.61445618,  0.        ], 0, -10, 0, 1)\n",
      " (38575, 0, [-0.07383708, -1.85144222,  0.        ], 0, -10, 0, 1)\n",
      " (38576, 0, [ 0.1943753 , -0.02129129,  0.        ], 0, -10, 0, 1)]\n"
     ]
    }
   ],
   "source": [
    "print(db.nastran.input.node.grid.identity)  # or db.input.node.grid.grid"
   ]
  },
  {
   "cell_type": "code",
   "execution_count": 12,
   "metadata": {},
   "outputs": [
    {
     "name": "stdout",
     "output_type": "stream",
     "text": [
      "[0, 2, 3, 4, 5, 6, 7]\n"
     ]
    }
   ],
   "source": [
    "print(db.nastran.result.nodal.displacement.table_def.indices.indices) # .nodal.displacement.search(data_ids=[1, 2])"
   ]
  },
  {
   "cell_type": "code",
   "execution_count": 13,
   "metadata": {},
   "outputs": [
    {
     "name": "stdout",
     "output_type": "stream",
     "text": [
      "[0, 2, 3, 4, 5, 6, 7, 8, 9]\n"
     ]
    }
   ],
   "source": [
    "print(db.nastran.result.elemental.element_force.quad4.table_def.indices.indices) "
   ]
  },
  {
   "cell_type": "code",
   "execution_count": 14,
   "metadata": {},
   "outputs": [
    {
     "name": "stdout",
     "output_type": "stream",
     "text": [
      "range(0, 10)\n",
      "[1, 5, 75]\n",
      "    EID          MX          MY        MXY  BMX  BMY  BMXY   TX   TY  \\\n",
      "0     1   -0.076546    1.979977  -0.202321  0.0  0.0   0.0  0.0  0.0   \n",
      "1     5   10.040490   -0.006145   1.090424  0.0  0.0   0.0  0.0  0.0   \n",
      "2    75   -0.233569   25.108070  -4.350012  0.0  0.0   0.0  0.0  0.0   \n",
      "3     1    5.243414   28.042950   6.974345  0.0  0.0   0.0  0.0  0.0   \n",
      "4     5   37.931210   -0.003259   1.810250  0.0  0.0   0.0  0.0  0.0   \n",
      "5    75   -0.367217   55.484860  -4.995433  0.0  0.0   0.0  0.0  0.0   \n",
      "6     1   10.405910   53.218780  13.942510  0.0  0.0   0.0  0.0  0.0   \n",
      "7     5   64.521240   -0.000052   2.460684  0.0  0.0   0.0  0.0  0.0   \n",
      "8    75   -0.487783   83.880240  -5.437882  0.0  0.0   0.0  0.0  0.0   \n",
      "9     1   15.253840   76.746830  20.490040  0.0  0.0   0.0  0.0  0.0   \n",
      "10    5   89.020890    0.003350   3.023733  0.0  0.0   0.0  0.0  0.0   \n",
      "11   75   -0.591878  109.467700  -5.670110  0.0  0.0   0.0  0.0  0.0   \n",
      "12    1   19.639560   97.919140  26.417300  0.0  0.0   0.0  0.0  0.0   \n",
      "13    5  110.715200    0.006802   3.485170  0.0  0.0   0.0  0.0  0.0   \n",
      "14   75   -0.676741  131.529100  -5.695356  0.0  0.0   0.0  0.0  0.0   \n",
      "15    1   23.429320  116.101600  31.543310  0.0  0.0   0.0  0.0  0.0   \n",
      "16    5  128.984400    0.010142   3.834811  0.0  0.0   0.0  0.0  0.0   \n",
      "17   75   -0.740316  149.473700  -5.526635  0.0  0.0   0.0  0.0  0.0   \n",
      "18    1   26.507400  130.752600  35.711250  0.0  0.0   0.0  0.0  0.0   \n",
      "19    5  143.319200    0.013201   4.066520  0.0  0.0   0.0  0.0  0.0   \n",
      "20   75   -0.781273  162.848900  -5.185194  0.0  0.0   0.0  0.0  0.0   \n",
      "21    1   28.779710  141.438100  38.793410  0.0  0.0   0.0  0.0  0.0   \n",
      "22    5  153.331600    0.015818   4.177893  0.0  0.0   0.0  0.0  0.0   \n",
      "23   75   -0.798968  171.344400  -4.698111  0.0  0.0   0.0  0.0  0.0   \n",
      "24    1   30.176670  147.843300  40.695160  0.0  0.0   0.0  0.0  0.0   \n",
      "25    5  158.759700    0.017853   4.169676  0.0  0.0   0.0  0.0  0.0   \n",
      "26   75   -0.793359  174.787500  -4.095208  0.0  0.0   0.0  0.0  0.0   \n",
      "27    1   30.655490  149.780500  41.358040  0.0  0.0   0.0  0.0  0.0   \n",
      "28    5  159.468300    0.019203   4.045052  0.0  0.0   0.0  0.0  0.0   \n",
      "29   75   -0.764899  173.135100  -3.405736  0.0  0.0   0.0  0.0  0.0   \n",
      "\n",
      "    DOMAIN_ID  \n",
      "0           1  \n",
      "1           1  \n",
      "2           1  \n",
      "3           2  \n",
      "4           2  \n",
      "5           2  \n",
      "6           3  \n",
      "7           3  \n",
      "8           3  \n",
      "9           4  \n",
      "10          4  \n",
      "11          4  \n",
      "12          5  \n",
      "13          5  \n",
      "14          5  \n",
      "15          6  \n",
      "16          6  \n",
      "17          6  \n",
      "18          7  \n",
      "19          7  \n",
      "20          7  \n",
      "21          8  \n",
      "22          8  \n",
      "23          8  \n",
      "24          9  \n",
      "25          9  \n",
      "26          9  \n",
      "27         10  \n",
      "28         10  \n",
      "29         10  \n"
     ]
    }
   ],
   "source": [
    "domain_ids = range(10)\n",
    "print(domain_ids)\n",
    "elements = [1, 5, 75]\n",
    "print(elements)\n",
    "f = db.nastran.result.elemental.element_force.quad4.search(elements, domain_ids)\n",
    "print(f)"
   ]
  },
  {
   "cell_type": "code",
   "execution_count": 15,
   "metadata": {},
   "outputs": [
    {
     "name": "stdout",
     "output_type": "stream",
     "text": [
      "    EID          MX          MY        MXY  BMX  BMY  BMXY   TX   TY  \\\n",
      "0     1   -0.076546    1.979977  -0.202321  0.0  0.0   0.0  0.0  0.0   \n",
      "1     5   10.040490   -0.006145   1.090424  0.0  0.0   0.0  0.0  0.0   \n",
      "2    75   -0.233569   25.108070  -4.350012  0.0  0.0   0.0  0.0  0.0   \n",
      "3     1    5.243414   28.042950   6.974345  0.0  0.0   0.0  0.0  0.0   \n",
      "4     5   37.931210   -0.003259   1.810250  0.0  0.0   0.0  0.0  0.0   \n",
      "5    75   -0.367217   55.484860  -4.995433  0.0  0.0   0.0  0.0  0.0   \n",
      "6     1   10.405910   53.218780  13.942510  0.0  0.0   0.0  0.0  0.0   \n",
      "7     5   64.521240   -0.000052   2.460684  0.0  0.0   0.0  0.0  0.0   \n",
      "8    75   -0.487783   83.880240  -5.437882  0.0  0.0   0.0  0.0  0.0   \n",
      "9     1   15.253840   76.746830  20.490040  0.0  0.0   0.0  0.0  0.0   \n",
      "10    5   89.020890    0.003350   3.023733  0.0  0.0   0.0  0.0  0.0   \n",
      "11   75   -0.591878  109.467700  -5.670110  0.0  0.0   0.0  0.0  0.0   \n",
      "12    1   19.639560   97.919140  26.417300  0.0  0.0   0.0  0.0  0.0   \n",
      "13    5  110.715200    0.006802   3.485170  0.0  0.0   0.0  0.0  0.0   \n",
      "14   75   -0.676741  131.529100  -5.695356  0.0  0.0   0.0  0.0  0.0   \n",
      "15    1   23.429320  116.101600  31.543310  0.0  0.0   0.0  0.0  0.0   \n",
      "16    5  128.984400    0.010142   3.834811  0.0  0.0   0.0  0.0  0.0   \n",
      "17   75   -0.740316  149.473700  -5.526635  0.0  0.0   0.0  0.0  0.0   \n",
      "18    1   26.507400  130.752600  35.711250  0.0  0.0   0.0  0.0  0.0   \n",
      "19    5  143.319200    0.013201   4.066520  0.0  0.0   0.0  0.0  0.0   \n",
      "20   75   -0.781273  162.848900  -5.185194  0.0  0.0   0.0  0.0  0.0   \n",
      "21    1   28.779710  141.438100  38.793410  0.0  0.0   0.0  0.0  0.0   \n",
      "22    5  153.331600    0.015818   4.177893  0.0  0.0   0.0  0.0  0.0   \n",
      "23   75   -0.798968  171.344400  -4.698111  0.0  0.0   0.0  0.0  0.0   \n",
      "24    1   30.176670  147.843300  40.695160  0.0  0.0   0.0  0.0  0.0   \n",
      "25    5  158.759700    0.017853   4.169676  0.0  0.0   0.0  0.0  0.0   \n",
      "26   75   -0.793359  174.787500  -4.095208  0.0  0.0   0.0  0.0  0.0   \n",
      "27    1   30.655490  149.780500  41.358040  0.0  0.0   0.0  0.0  0.0   \n",
      "28    5  159.468300    0.019203   4.045052  0.0  0.0   0.0  0.0  0.0   \n",
      "29   75   -0.764899  173.135100  -3.405736  0.0  0.0   0.0  0.0  0.0   \n",
      "\n",
      "    DOMAIN_ID  \n",
      "0           1  \n",
      "1           1  \n",
      "2           1  \n",
      "3           2  \n",
      "4           2  \n",
      "5           2  \n",
      "6           3  \n",
      "7           3  \n",
      "8           3  \n",
      "9           4  \n",
      "10          4  \n",
      "11          4  \n",
      "12          5  \n",
      "13          5  \n",
      "14          5  \n",
      "15          6  \n",
      "16          6  \n",
      "17          6  \n",
      "18          7  \n",
      "19          7  \n",
      "20          7  \n",
      "21          8  \n",
      "22          8  \n",
      "23          8  \n",
      "24          9  \n",
      "25          9  \n",
      "26          9  \n",
      "27         10  \n",
      "28         10  \n",
      "29         10  \n"
     ]
    }
   ],
   "source": [
    "#print(2 * f + 3 * f)\n",
    "\n",
    "f = db.nastran.result.elemental.element_force.search(elements, domain_ids)\n",
    "print(f.quad4)"
   ]
  },
  {
   "cell_type": "code",
   "execution_count": null,
   "metadata": {},
   "outputs": [],
   "source": []
  },
  {
   "cell_type": "code",
   "execution_count": 16,
   "metadata": {},
   "outputs": [],
   "source": [
    "# vec = db.input.coordinate_system.h5n_transformation.vector_to_basic([1, 1, 1], 1)\n",
    "\n",
    "# print(vec)\n",
    "\n",
    "# pynastran bdf\n",
    "#bdf = db.bdf\n",
    "\n",
    "# currently, to modify the bdf and rewrite to h5,\n",
    "# you'd need to modify the pynastran bdf, write it to a new file and create a new h5 database"
   ]
  },
  {
   "cell_type": "code",
   "execution_count": 19,
   "metadata": {},
   "outputs": [
    {
     "ename": "NameError",
     "evalue": "name '_grid' is not defined",
     "output_type": "error",
     "traceback": [
      "\u001b[0;31m---------------------------------------------------------------------------\u001b[0m",
      "\u001b[0;31mNameError\u001b[0m                                 Traceback (most recent call last)",
      "\u001b[0;32m<ipython-input-19-70cace00c799>\u001b[0m in \u001b[0;36m<module>\u001b[0;34m()\u001b[0m\n\u001b[1;32m      3\u001b[0m \u001b[0;31m# the goal is to recreate the bdf file from only the h5 data\u001b[0m\u001b[0;34m\u001b[0m\u001b[0;34m\u001b[0m\u001b[0m\n\u001b[1;32m      4\u001b[0m \u001b[0;34m\u001b[0m\u001b[0m\n\u001b[0;32m----> 5\u001b[0;31m \u001b[0mdb\u001b[0m\u001b[0;34m.\u001b[0m\u001b[0mvisualize\u001b[0m\u001b[0;34m(\u001b[0m\u001b[0;34m)\u001b[0m\u001b[0;34m\u001b[0m\u001b[0m\n\u001b[0m",
      "\u001b[0;32m/data/git/h5nastran/h5nastran/h5nastran.py\u001b[0m in \u001b[0;36mvisualize\u001b[0;34m(self)\u001b[0m\n\u001b[1;32m     22\u001b[0m \u001b[0;34m\u001b[0m\u001b[0m\n\u001b[1;32m     23\u001b[0m     \u001b[0;32mdef\u001b[0m \u001b[0mvisualize\u001b[0m\u001b[0;34m(\u001b[0m\u001b[0mself\u001b[0m\u001b[0;34m)\u001b[0m\u001b[0;34m:\u001b[0m\u001b[0;34m\u001b[0m\u001b[0m\n\u001b[0;32m---> 24\u001b[0;31m         \u001b[0;32mfrom\u001b[0m \u001b[0;34m.\u001b[0m\u001b[0mvisualization\u001b[0m \u001b[0;32mimport\u001b[0m \u001b[0mto_vtk\u001b[0m\u001b[0;34m\u001b[0m\u001b[0m\n\u001b[0m\u001b[1;32m     25\u001b[0m \u001b[0;34m\u001b[0m\u001b[0m\n\u001b[1;32m     26\u001b[0m         \u001b[0;32mif\u001b[0m \u001b[0mself\u001b[0m\u001b[0;34m.\u001b[0m\u001b[0mbdf\u001b[0m \u001b[0;32mis\u001b[0m \u001b[0;32mNone\u001b[0m\u001b[0;34m:\u001b[0m\u001b[0;34m\u001b[0m\u001b[0m\n",
      "\u001b[0;32m/data/git/h5nastran/h5nastran/visualization.py\u001b[0m in \u001b[0;36m<module>\u001b[0;34m()\u001b[0m\n\u001b[1;32m     26\u001b[0m \u001b[0;34m\u001b[0m\u001b[0m\n\u001b[1;32m     27\u001b[0m NASTRAN2VTK = {\n\u001b[0;32m---> 28\u001b[0;31m     \u001b[0;34m'GRID'\u001b[0m\u001b[0;34m:\u001b[0m \u001b[0;34m(\u001b[0m\u001b[0mvtk\u001b[0m\u001b[0;34m.\u001b[0m\u001b[0mVTK_VERTEX\u001b[0m\u001b[0;34m,\u001b[0m \u001b[0m_grid\u001b[0m\u001b[0;34m,\u001b[0m \u001b[0;34m'grid'\u001b[0m\u001b[0;34m)\u001b[0m\u001b[0;34m,\u001b[0m\u001b[0;34m\u001b[0m\u001b[0m\n\u001b[0m\u001b[1;32m     29\u001b[0m     \u001b[0;34m'CQUAD4'\u001b[0m\u001b[0;34m:\u001b[0m \u001b[0;34m(\u001b[0m\u001b[0mvtk\u001b[0m\u001b[0;34m.\u001b[0m\u001b[0mVTK_QUAD\u001b[0m\u001b[0;34m,\u001b[0m \u001b[0m_basic_elem\u001b[0m\u001b[0;34m,\u001b[0m \u001b[0;34m'element'\u001b[0m\u001b[0;34m)\u001b[0m\u001b[0;34m,\u001b[0m\u001b[0;34m\u001b[0m\u001b[0m\n\u001b[1;32m     30\u001b[0m     \u001b[0;34m'CTRIA3'\u001b[0m\u001b[0;34m:\u001b[0m \u001b[0;34m(\u001b[0m\u001b[0mvtk\u001b[0m\u001b[0;34m.\u001b[0m\u001b[0mVTK_TRIANGLE\u001b[0m\u001b[0;34m,\u001b[0m \u001b[0m_basic_elem\u001b[0m\u001b[0;34m,\u001b[0m \u001b[0;34m'element'\u001b[0m\u001b[0;34m)\u001b[0m\u001b[0;34m,\u001b[0m\u001b[0;34m\u001b[0m\u001b[0m\n",
      "\u001b[0;31mNameError\u001b[0m: name '_grid' is not defined"
     ]
    }
   ],
   "source": [
    "# currently, the entire bdf is written to h5 as written by pynastran\n",
    "# it can be loaded by doing db.load_bdf() without a filename\n",
    "# the goal is to recreate the bdf file from only the h5 data\n",
    "\n",
    "db.visualize()"
   ]
  },
  {
   "cell_type": "code",
   "execution_count": 20,
   "metadata": {},
   "outputs": [],
   "source": [
    "db.close()"
   ]
  },
  {
   "cell_type": "code",
   "execution_count": null,
   "metadata": {},
   "outputs": [
    {
     "name": "stdout",
     "output_type": "stream",
     "text": [
      "MAT1 not supported\n",
      "MAT1 not supported\n"
     ]
    },
    {
     "data": {
      "text/html": [
       "<text style=color:green>INFO:    bdf.py:2346                      rejecting card_name = SELOC\n",
       "</text>"
      ],
      "text/plain": [
       "<IPython.core.display.HTML object>"
      ]
     },
     "metadata": {},
     "output_type": "display_data"
    },
    {
     "name": "stdout",
     "output_type": "stream",
     "text": [
      "MAT1 not supported\n",
      "PLOAD1 not supported\n",
      "MAT1 not supported\n",
      "MAT1 not supported\n",
      "MAT1 not supported\n",
      "MAT1 not supported\n",
      "PLOAD1 not supported\n",
      "MAT1 not supported\n",
      "MPCADD not supported\n",
      "MAT1 not supported\n"
     ]
    },
    {
     "data": {
      "text/html": [
       "<text style=color:green>INFO:    bdf.py:2346                      rejecting card_name = ACMODL\n",
       "</text>"
      ],
      "text/plain": [
       "<IPython.core.display.HTML object>"
      ]
     },
     "metadata": {},
     "output_type": "display_data"
    },
    {
     "name": "stdout",
     "output_type": "stream",
     "text": [
      "EIGC not supported\n",
      "MAT1 not supported\n",
      "MAT10 not supported\n",
      "MAT1 not supported\n",
      "MAT1 not supported\n",
      "MAT1 not supported\n",
      "MAT1 not supported\n",
      "MAT1 not supported\n",
      "No such bdf_filename: '/data/git/h5nastran/data/write_modes.v2005'\n",
      "cwd: '/data/git/h5nastran/notebooks'\n",
      "include_dir: '/data/git/h5nastran/data'\n",
      "failed: /data/git/h5nastran/data/write_modes.v2005\n",
      "passed: /data/git/h5nastran/data\n",
      "passed: /data/git/h5nastran\n",
      "passed: /data/git\n",
      "passed: /data\n",
      "passed: /\n",
      "There was an invalid filename found while parsing.\n",
      "Check the end of 'pyNastran_crash.bdf'\n",
      "bdf_filename2 = '/data/git/h5nastran/data/write_modes.v2005'\n",
      "abs_filename2 = '/data/git/h5nastran/data/write_modes.v2005'\n",
      "\n"
     ]
    },
    {
     "data": {
      "text/html": [
       "<text style=color:orange>WARNING: shell.py:2060                PSHELL pid=1 midsurface: z1=0.400000006 z2=-0.400000006 t=0.035999998 not in range of -1.5t < zi < 1.5t\n",
       "</text>"
      ],
      "text/plain": [
       "<IPython.core.display.HTML object>"
      ]
     },
     "metadata": {},
     "output_type": "display_data"
    },
    {
     "data": {
      "text/html": [
       "<text style=color:orange>WARNING: shell.py:2060                PSHELL pid=2 midsurface: z1=0.400000006 z2=-0.400000006 t=0.054000005 not in range of -1.5t < zi < 1.5t\n",
       "</text>"
      ],
      "text/plain": [
       "<IPython.core.display.HTML object>"
      ]
     },
     "metadata": {},
     "output_type": "display_data"
    },
    {
     "data": {
      "text/html": [
       "<text style=color:orange>WARNING: shell.py:2060                PSHELL pid=3 midsurface: z1=0.400000006 z2=-0.400000006 t=0.017999999 not in range of -1.5t < zi < 1.5t\n",
       "</text>"
      ],
      "text/plain": [
       "<IPython.core.display.HTML object>"
      ]
     },
     "metadata": {},
     "output_type": "display_data"
    },
    {
     "data": {
      "text/html": [
       "<text style=color:orange>WARNING: shell.py:2060                PSHELL pid=7 midsurface: z1=0.418000013 z2=-0.418000013 t=0.035999998 not in range of -1.5t < zi < 1.5t\n",
       "</text>"
      ],
      "text/plain": [
       "<IPython.core.display.HTML object>"
      ]
     },
     "metadata": {},
     "output_type": "display_data"
    },
    {
     "data": {
      "text/html": [
       "<text style=color:orange>WARNING: shell.py:2060                PSHELL pid=34 midsurface: z1=0.194000006 z2=-0.194000006 t=0.0186 not in range of -1.5t < zi < 1.5t\n",
       "</text>"
      ],
      "text/plain": [
       "<IPython.core.display.HTML object>"
      ]
     },
     "metadata": {},
     "output_type": "display_data"
    },
    {
     "data": {
      "text/html": [
       "<text style=color:orange>WARNING: shell.py:2060                PSHELL pid=38 midsurface: z1=0.284000009 z2=-0.284000009 t=0.0186 not in range of -1.5t < zi < 1.5t\n",
       "</text>"
      ],
      "text/plain": [
       "<IPython.core.display.HTML object>"
      ]
     },
     "metadata": {},
     "output_type": "display_data"
    },
    {
     "data": {
      "text/html": [
       "<text style=color:orange>WARNING: shell.py:2060                PSHELL pid=46 midsurface: z1=0.199000001 z2=-0.199000001 t=0.0186 not in range of -1.5t < zi < 1.5t\n",
       "</text>"
      ],
      "text/plain": [
       "<IPython.core.display.HTML object>"
      ]
     },
     "metadata": {},
     "output_type": "display_data"
    },
    {
     "data": {
      "text/html": [
       "<text style=color:orange>WARNING: shell.py:2060                PSHELL pid=37 midsurface: z1=0.308999985 z2=-0.308999985 t=0.0186 not in range of -1.5t < zi < 1.5t\n",
       "</text>"
      ],
      "text/plain": [
       "<IPython.core.display.HTML object>"
      ]
     },
     "metadata": {},
     "output_type": "display_data"
    },
    {
     "name": "stdout",
     "output_type": "stream",
     "text": [
      "MAT1 not supported\n",
      "MAT8 not supported\n",
      "SUPORT not supported\n",
      "EIGB not supported\n",
      "MAT1 not supported\n",
      "EIGC not supported\n",
      "TF not supported\n",
      "MAT1 not supported\n",
      "MAT1 not supported\n",
      "No such bdf_filename: '/data/git/h5nastran/data/../../BULK/ETOILE/Panneau_Etoile_Central_MX.blk'\n",
      "cwd: '/data/git/h5nastran/notebooks'\n",
      "include_dir: '/data/git/h5nastran/data'\n",
      "failed: /data/git/BULK/ETOILE/Panneau_Etoile_Central_MX.blk\n",
      "failed: /data/git/BULK/ETOILE\n",
      "failed: /data/git/BULK\n",
      "passed: /data/git\n",
      "passed: /data\n",
      "passed: /\n",
      "There was an invalid filename found while parsing.\n",
      "Check the end of 'pyNastran_crash.bdf'\n",
      "bdf_filename2 = '/data/git/h5nastran/data/../../BULK/ETOILE/Panneau_Etoile_Central_MX.blk'\n",
      "abs_filename2 = '/data/git/BULK/ETOILE/Panneau_Etoile_Central_MX.blk'\n",
      "\n"
     ]
    },
    {
     "data": {
      "text/html": [
       "<text style=color:orange>WARNING: shell.py:2060                PSHELL pid=1 midsurface: z1=0.400000006 z2=-0.400000006 t=0.035999998 not in range of -1.5t < zi < 1.5t\n",
       "</text>"
      ],
      "text/plain": [
       "<IPython.core.display.HTML object>"
      ]
     },
     "metadata": {},
     "output_type": "display_data"
    },
    {
     "data": {
      "text/html": [
       "<text style=color:orange>WARNING: shell.py:2060                PSHELL pid=2 midsurface: z1=0.400000006 z2=-0.400000006 t=0.054000005 not in range of -1.5t < zi < 1.5t\n",
       "</text>"
      ],
      "text/plain": [
       "<IPython.core.display.HTML object>"
      ]
     },
     "metadata": {},
     "output_type": "display_data"
    },
    {
     "data": {
      "text/html": [
       "<text style=color:orange>WARNING: shell.py:2060                PSHELL pid=3 midsurface: z1=0.400000006 z2=-0.400000006 t=0.017999999 not in range of -1.5t < zi < 1.5t\n",
       "</text>"
      ],
      "text/plain": [
       "<IPython.core.display.HTML object>"
      ]
     },
     "metadata": {},
     "output_type": "display_data"
    },
    {
     "data": {
      "text/html": [
       "<text style=color:orange>WARNING: shell.py:2060                PSHELL pid=7 midsurface: z1=0.418000013 z2=-0.418000013 t=0.035999998 not in range of -1.5t < zi < 1.5t\n",
       "</text>"
      ],
      "text/plain": [
       "<IPython.core.display.HTML object>"
      ]
     },
     "metadata": {},
     "output_type": "display_data"
    },
    {
     "data": {
      "text/html": [
       "<text style=color:orange>WARNING: shell.py:2060                PSHELL pid=34 midsurface: z1=0.194000006 z2=-0.194000006 t=0.0186 not in range of -1.5t < zi < 1.5t\n",
       "</text>"
      ],
      "text/plain": [
       "<IPython.core.display.HTML object>"
      ]
     },
     "metadata": {},
     "output_type": "display_data"
    },
    {
     "data": {
      "text/html": [
       "<text style=color:orange>WARNING: shell.py:2060                PSHELL pid=38 midsurface: z1=0.284000009 z2=-0.284000009 t=0.0186 not in range of -1.5t < zi < 1.5t\n",
       "</text>"
      ],
      "text/plain": [
       "<IPython.core.display.HTML object>"
      ]
     },
     "metadata": {},
     "output_type": "display_data"
    },
    {
     "data": {
      "text/html": [
       "<text style=color:orange>WARNING: shell.py:2060                PSHELL pid=46 midsurface: z1=0.199000001 z2=-0.199000001 t=0.0186 not in range of -1.5t < zi < 1.5t\n",
       "</text>"
      ],
      "text/plain": [
       "<IPython.core.display.HTML object>"
      ]
     },
     "metadata": {},
     "output_type": "display_data"
    },
    {
     "data": {
      "text/html": [
       "<text style=color:orange>WARNING: shell.py:2060                PSHELL pid=37 midsurface: z1=0.308999985 z2=-0.308999985 t=0.0186 not in range of -1.5t < zi < 1.5t\n",
       "</text>"
      ],
      "text/plain": [
       "<IPython.core.display.HTML object>"
      ]
     },
     "metadata": {},
     "output_type": "display_data"
    },
    {
     "name": "stdout",
     "output_type": "stream",
     "text": [
      "MAT1 not supported\n",
      "MAT8 not supported\n"
     ]
    },
    {
     "data": {
      "text/html": [
       "<text style=color:green>INFO:    bdf.py:2346                      rejecting card_name = RANDT1\n",
       "</text>"
      ],
      "text/plain": [
       "<IPython.core.display.HTML object>"
      ]
     },
     "metadata": {},
     "output_type": "display_data"
    },
    {
     "name": "stdout",
     "output_type": "stream",
     "text": [
      "MAT1 not supported\n",
      "GUST not supported\n",
      "MAT1 not supported\n",
      "MONPNT3 not supported\n",
      "TABRND1 not supported\n",
      "MAT1 not supported\n",
      "MATT1 not supported\n",
      "MAT1 not supported\n"
     ]
    },
    {
     "data": {
      "text/html": [
       "<text style=color:green>INFO:    bdf.py:2346                      rejecting card_name = RVDOF1\n",
       "</text>"
      ],
      "text/plain": [
       "<IPython.core.display.HTML object>"
      ]
     },
     "metadata": {},
     "output_type": "display_data"
    },
    {
     "data": {
      "text/html": [
       "<text style=color:green>INFO:    bdf.py:2346                      rejecting card_name = RVDOF\n",
       "</text>"
      ],
      "text/plain": [
       "<IPython.core.display.HTML object>"
      ]
     },
     "metadata": {},
     "output_type": "display_data"
    },
    {
     "name": "stdout",
     "output_type": "stream",
     "text": [
      "MAT1 not supported\n",
      "PLOAD2 not supported\n",
      "SEQSET1 not supported\n",
      "SESET not supported\n",
      "No such bdf_filename: '/data/git/h5nastran/data/dmap_charge'\n",
      "cwd: '/data/git/h5nastran/notebooks'\n",
      "include_dir: '/data/git/h5nastran/data'\n",
      "failed: /data/git/h5nastran/data/dmap_charge\n",
      "passed: /data/git/h5nastran/data\n",
      "passed: /data/git/h5nastran\n",
      "passed: /data/git\n",
      "passed: /data\n",
      "passed: /\n",
      "There was an invalid filename found while parsing.\n",
      "Check the end of 'pyNastran_crash.bdf'\n",
      "bdf_filename2 = '/data/git/h5nastran/data/dmap_charge'\n",
      "abs_filename2 = '/data/git/h5nastran/data/dmap_charge'\n",
      "\n",
      "MAT1 not supported\n",
      "No such bdf_filename: '/data/git/h5nastran/data/$Satellite_V02_bddm/Satellite_V02_Materiaux.blk'\n",
      "cwd: '/data/git/h5nastran/notebooks'\n",
      "include_dir: '/data/git/h5nastran/data'\n",
      "failed: /data/git/h5nastran/data/$Satellite_V02_bddm/Satellite_V02_Materiaux.blk\n",
      "failed: /data/git/h5nastran/data/$Satellite_V02_bddm\n",
      "passed: /data/git/h5nastran/data\n",
      "passed: /data/git/h5nastran\n",
      "passed: /data/git\n",
      "passed: /data\n",
      "passed: /\n",
      "There was an invalid filename found while parsing.\n",
      "Check the end of 'pyNastran_crash.bdf'\n",
      "bdf_filename2 = '/data/git/h5nastran/data/$Satellite_V02_bddm/Satellite_V02_Materiaux.blk'\n",
      "abs_filename2 = '/data/git/h5nastran/data/$Satellite_V02_bddm/Satellite_V02_Materiaux.blk'\n",
      "\n",
      "MAT1 not supported\n"
     ]
    },
    {
     "data": {
      "text/html": [
       "<text style=color:orange>WARNING: shell.py:2060                PSHELL pid=1 midsurface: z1=0.4 z2=-0.4 t=0.036 not in range of -1.5t < zi < 1.5t\n",
       "</text>"
      ],
      "text/plain": [
       "<IPython.core.display.HTML object>"
      ]
     },
     "metadata": {},
     "output_type": "display_data"
    },
    {
     "data": {
      "text/html": [
       "<text style=color:orange>WARNING: shell.py:2060                PSHELL pid=2 midsurface: z1=0.4 z2=-0.4 t=0.054 not in range of -1.5t < zi < 1.5t\n",
       "</text>"
      ],
      "text/plain": [
       "<IPython.core.display.HTML object>"
      ]
     },
     "metadata": {},
     "output_type": "display_data"
    },
    {
     "data": {
      "text/html": [
       "<text style=color:orange>WARNING: shell.py:2060                PSHELL pid=3 midsurface: z1=0.4 z2=-0.4 t=0.018 not in range of -1.5t < zi < 1.5t\n",
       "</text>"
      ],
      "text/plain": [
       "<IPython.core.display.HTML object>"
      ]
     },
     "metadata": {},
     "output_type": "display_data"
    },
    {
     "data": {
      "text/html": [
       "<text style=color:orange>WARNING: shell.py:2060                PSHELL pid=7 midsurface: z1=0.418 z2=-0.418 t=0.036 not in range of -1.5t < zi < 1.5t\n",
       "</text>"
      ],
      "text/plain": [
       "<IPython.core.display.HTML object>"
      ]
     },
     "metadata": {},
     "output_type": "display_data"
    },
    {
     "data": {
      "text/html": [
       "<text style=color:orange>WARNING: shell.py:2060                PSHELL pid=34 midsurface: z1=0.194 z2=-0.194 t=0.0186 not in range of -1.5t < zi < 1.5t\n",
       "</text>"
      ],
      "text/plain": [
       "<IPython.core.display.HTML object>"
      ]
     },
     "metadata": {},
     "output_type": "display_data"
    },
    {
     "data": {
      "text/html": [
       "<text style=color:orange>WARNING: shell.py:2060                PSHELL pid=37 midsurface: z1=0.309 z2=-0.309 t=0.0186 not in range of -1.5t < zi < 1.5t\n",
       "</text>"
      ],
      "text/plain": [
       "<IPython.core.display.HTML object>"
      ]
     },
     "metadata": {},
     "output_type": "display_data"
    },
    {
     "data": {
      "text/html": [
       "<text style=color:orange>WARNING: shell.py:2060                PSHELL pid=38 midsurface: z1=0.284 z2=-0.284 t=0.0186 not in range of -1.5t < zi < 1.5t\n",
       "</text>"
      ],
      "text/plain": [
       "<IPython.core.display.HTML object>"
      ]
     },
     "metadata": {},
     "output_type": "display_data"
    },
    {
     "data": {
      "text/html": [
       "<text style=color:orange>WARNING: shell.py:2060                PSHELL pid=46 midsurface: z1=0.199 z2=-0.199 t=0.0186 not in range of -1.5t < zi < 1.5t\n",
       "</text>"
      ],
      "text/plain": [
       "<IPython.core.display.HTML object>"
      ]
     },
     "metadata": {},
     "output_type": "display_data"
    },
    {
     "name": "stdout",
     "output_type": "stream",
     "text": [
      "LSEQ not supported\n",
      "MAT1 not supported\n",
      "MAT8 not supported\n",
      "USET1 not supported\n",
      "MAT1 not supported\n",
      "MAT4 not supported\n",
      "MAT1 not supported\n"
     ]
    }
   ],
   "source": [
    "import os\n",
    "import os.path\n",
    "\n",
    "from collections import defaultdict\n",
    "\n",
    "from h5nastran.h5nastran import H5Nastran\n",
    "#from h5nastran.h5nastran import pyNastranReadBdfError, pyNastranWriteBdfError\n",
    "\n",
    "# this file verifies that h5Nastran can read all the bdf files included with pyNastran\n",
    "# any bdf cards that are not supported are printed out\n",
    "\n",
    "\n",
    "# path to pyNastran models, you will need to point to the correct path here\n",
    "models_path = r'../data'\n",
    "\n",
    "bdfs = []\n",
    "\n",
    "for dirpath, dirnames, filenames in os.walk(models_path):\n",
    "    for filename in [f for f in filenames if f.endswith('.bdf') or f.endswith('.dat')]:\n",
    "        bdfs.append(os.path.join(dirpath, filename))\n",
    "\n",
    "unsupported_cards = defaultdict(int)\n",
    "\n",
    "for bdf in bdfs:\n",
    "    db = H5Nastran('../output/dummy.h5', 'w', in_memory=True)\n",
    "    print(bdf)\n",
    "    try:\n",
    "        db.load_bdf(bdf)\n",
    "    except :\n",
    "#    except (pyNastranReadBdfError, pyNastranWriteBdfError):\n",
    "        db.close()\n",
    "        continue\n",
    "\n",
    "    for card_id in db._unsupported_bdf_cards:\n",
    "        unsupported_cards[card_id] += 1\n",
    "\n",
    "    db.close()\n",
    "\n",
    "unsupported_cards = [(card_id, unsupported_cards[card_id]) for card_id in unsupported_cards.keys()]\n",
    "unsupported_cards = sorted(unsupported_cards, key=lambda x: x[1])\n",
    "\n",
    "for card in unsupported_cards:\n",
    "    print(card)\n",
    "\n",
    "print(len(unsupported_cards))"
   ]
  },
  {
   "cell_type": "code",
   "execution_count": null,
   "metadata": {},
   "outputs": [],
   "source": []
  }
 ],
 "metadata": {
  "kernelspec": {
   "display_name": "Python 3",
   "language": "python",
   "name": "python3"
  },
  "language_info": {
   "codemirror_mode": {
    "name": "ipython",
    "version": 3
   },
   "file_extension": ".py",
   "mimetype": "text/x-python",
   "name": "python",
   "nbconvert_exporter": "python",
   "pygments_lexer": "ipython3",
   "version": "3.6.6"
  }
 },
 "nbformat": 4,
 "nbformat_minor": 2
}
